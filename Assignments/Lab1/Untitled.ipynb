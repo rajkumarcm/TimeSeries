{
 "cells": [
  {
   "cell_type": "code",
   "execution_count": 1,
   "id": "19dad125-5d06-413a-95cd-689850f40e61",
   "metadata": {
    "pycharm": {
     "name": "#%%\n"
    }
   },
   "outputs": [],
   "source": [
    "import pandas as pd\n",
    "import matplotlib.pyplot as plt\n",
    "import numpy as np"
   ]
  },
  {
   "cell_type": "code",
   "execution_count": 2,
   "id": "eb6cae1b-0c53-4fc2-a1e1-6c05ac19a77c",
   "metadata": {
    "pycharm": {
     "name": "#%%\n"
    }
   },
   "outputs": [],
   "source": [
    " %config Completer.use_jedi = False"
   ]
  },
  {
   "cell_type": "code",
   "execution_count": 5,
   "id": "fc6ad968-66ca-4da8-b159-7cf5d40b4911",
   "metadata": {
    "pycharm": {
     "name": "#%%\n"
    }
   },
   "outputs": [],
   "source": [
    "df = pd.read_excel('CO2.xls', header=0, index_col=0, squeeze=True)"
   ]
  },
  {
   "cell_type": "code",
   "execution_count": 6,
   "id": "ab9b516d-4b66-4aa2-bc78-d3a2ac09ba2b",
   "metadata": {
    "pycharm": {
     "name": "#%%\n"
    }
   },
   "outputs": [
    {
     "data": {
      "text/html": [
       "<div>\n",
       "<style scoped>\n",
       "    .dataframe tbody tr th:only-of-type {\n",
       "        vertical-align: middle;\n",
       "    }\n",
       "\n",
       "    .dataframe tbody tr th {\n",
       "        vertical-align: top;\n",
       "    }\n",
       "\n",
       "    .dataframe thead th {\n",
       "        text-align: right;\n",
       "    }\n",
       "</style>\n",
       "<table border=\"1\" class=\"dataframe\">\n",
       "  <thead>\n",
       "    <tr style=\"text-align: right;\">\n",
       "      <th></th>\n",
       "      <th>Unnamed: 1</th>\n",
       "      <th>Unnamed: 2</th>\n",
       "      <th>Unnamed: 3</th>\n",
       "      <th>Unnamed: 4</th>\n",
       "      <th>Unnamed: 5</th>\n",
       "      <th>Unnamed: 6</th>\n",
       "      <th>Unnamed: 7</th>\n",
       "      <th>Unnamed: 8</th>\n",
       "      <th>Unnamed: 9</th>\n",
       "      <th>Unnamed: 10</th>\n",
       "      <th>...</th>\n",
       "      <th>Unnamed: 37</th>\n",
       "      <th>Unnamed: 38</th>\n",
       "      <th>Unnamed: 39</th>\n",
       "      <th>Unnamed: 40</th>\n",
       "      <th>Unnamed: 41</th>\n",
       "      <th>Unnamed: 42</th>\n",
       "      <th>Unnamed: 43</th>\n",
       "      <th>Unnamed: 44</th>\n",
       "      <th>Unnamed: 45</th>\n",
       "      <th>Unnamed: 46</th>\n",
       "    </tr>\n",
       "    <tr>\n",
       "      <th>Global CO2 emissions from fossil fuel use and cement production 1970-2015</th>\n",
       "      <th></th>\n",
       "      <th></th>\n",
       "      <th></th>\n",
       "      <th></th>\n",
       "      <th></th>\n",
       "      <th></th>\n",
       "      <th></th>\n",
       "      <th></th>\n",
       "      <th></th>\n",
       "      <th></th>\n",
       "      <th></th>\n",
       "      <th></th>\n",
       "      <th></th>\n",
       "      <th></th>\n",
       "      <th></th>\n",
       "      <th></th>\n",
       "      <th></th>\n",
       "      <th></th>\n",
       "      <th></th>\n",
       "      <th></th>\n",
       "      <th></th>\n",
       "    </tr>\n",
       "  </thead>\n",
       "  <tbody>\n",
       "    <tr>\n",
       "      <th>Emissions</th>\n",
       "      <td>2016 update with 2015 emissions of fossil fuel...</td>\n",
       "      <td>NaN</td>\n",
       "      <td>NaN</td>\n",
       "      <td>NaN</td>\n",
       "      <td>NaN</td>\n",
       "      <td>NaN</td>\n",
       "      <td>NaN</td>\n",
       "      <td>NaN</td>\n",
       "      <td>NaN</td>\n",
       "      <td>NaN</td>\n",
       "      <td>...</td>\n",
       "      <td>NaN</td>\n",
       "      <td>NaN</td>\n",
       "      <td>NaN</td>\n",
       "      <td>NaN</td>\n",
       "      <td>NaN</td>\n",
       "      <td>NaN</td>\n",
       "      <td>NaN</td>\n",
       "      <td>NaN</td>\n",
       "      <td>NaN</td>\n",
       "      <td>NaN</td>\n",
       "    </tr>\n",
       "    <tr>\n",
       "      <th>Substance:</th>\n",
       "      <td>CO2 country totals excluding short-cycle bioma...</td>\n",
       "      <td>NaN</td>\n",
       "      <td>NaN</td>\n",
       "      <td>NaN</td>\n",
       "      <td>NaN</td>\n",
       "      <td>NaN</td>\n",
       "      <td>NaN</td>\n",
       "      <td>NaN</td>\n",
       "      <td>NaN</td>\n",
       "      <td>NaN</td>\n",
       "      <td>...</td>\n",
       "      <td>NaN</td>\n",
       "      <td>NaN</td>\n",
       "      <td>NaN</td>\n",
       "      <td>NaN</td>\n",
       "      <td>NaN</td>\n",
       "      <td>NaN</td>\n",
       "      <td>NaN</td>\n",
       "      <td>NaN</td>\n",
       "      <td>NaN</td>\n",
       "      <td>NaN</td>\n",
       "    </tr>\n",
       "    <tr>\n",
       "      <th>Unit:</th>\n",
       "      <td>kton (Gg) CO2 per year</td>\n",
       "      <td>NaN</td>\n",
       "      <td>NaN</td>\n",
       "      <td>NaN</td>\n",
       "      <td>NaN</td>\n",
       "      <td>NaN</td>\n",
       "      <td>NaN</td>\n",
       "      <td>NaN</td>\n",
       "      <td>NaN</td>\n",
       "      <td>NaN</td>\n",
       "      <td>...</td>\n",
       "      <td>NaN</td>\n",
       "      <td>NaN</td>\n",
       "      <td>NaN</td>\n",
       "      <td>NaN</td>\n",
       "      <td>NaN</td>\n",
       "      <td>NaN</td>\n",
       "      <td>NaN</td>\n",
       "      <td>NaN</td>\n",
       "      <td>NaN</td>\n",
       "      <td>NaN</td>\n",
       "    </tr>\n",
       "    <tr>\n",
       "      <th>Date:</th>\n",
       "      <td>14/11/2016</td>\n",
       "      <td>NaN</td>\n",
       "      <td>NaN</td>\n",
       "      <td>NaN</td>\n",
       "      <td>NaN</td>\n",
       "      <td>NaN</td>\n",
       "      <td>NaN</td>\n",
       "      <td>NaN</td>\n",
       "      <td>NaN</td>\n",
       "      <td>NaN</td>\n",
       "      <td>...</td>\n",
       "      <td>NaN</td>\n",
       "      <td>NaN</td>\n",
       "      <td>NaN</td>\n",
       "      <td>NaN</td>\n",
       "      <td>NaN</td>\n",
       "      <td>NaN</td>\n",
       "      <td>NaN</td>\n",
       "      <td>NaN</td>\n",
       "      <td>NaN</td>\n",
       "      <td>NaN</td>\n",
       "    </tr>\n",
       "    <tr>\n",
       "      <th>Sources:</th>\n",
       "      <td>EDGARv4.3.2, European Commission, Joint Resear...</td>\n",
       "      <td>NaN</td>\n",
       "      <td>NaN</td>\n",
       "      <td>NaN</td>\n",
       "      <td>NaN</td>\n",
       "      <td>NaN</td>\n",
       "      <td>NaN</td>\n",
       "      <td>NaN</td>\n",
       "      <td>NaN</td>\n",
       "      <td>NaN</td>\n",
       "      <td>...</td>\n",
       "      <td>NaN</td>\n",
       "      <td>NaN</td>\n",
       "      <td>NaN</td>\n",
       "      <td>NaN</td>\n",
       "      <td>NaN</td>\n",
       "      <td>NaN</td>\n",
       "      <td>NaN</td>\n",
       "      <td>NaN</td>\n",
       "      <td>NaN</td>\n",
       "      <td>NaN</td>\n",
       "    </tr>\n",
       "  </tbody>\n",
       "</table>\n",
       "<p>5 rows × 46 columns</p>\n",
       "</div>"
      ],
      "text/plain": [
       "                                                                                           Unnamed: 1  \\\n",
       "Global CO2 emissions from fossil fuel use and c...                                                      \n",
       "Emissions                                           2016 update with 2015 emissions of fossil fuel...   \n",
       "Substance:                                          CO2 country totals excluding short-cycle bioma...   \n",
       "Unit:                                                                          kton (Gg) CO2 per year   \n",
       "Date:                                                                                      14/11/2016   \n",
       "Sources:                                            EDGARv4.3.2, European Commission, Joint Resear...   \n",
       "\n",
       "                                                   Unnamed: 2  Unnamed: 3  \\\n",
       "Global CO2 emissions from fossil fuel use and c...                          \n",
       "Emissions                                                 NaN         NaN   \n",
       "Substance:                                                NaN         NaN   \n",
       "Unit:                                                     NaN         NaN   \n",
       "Date:                                                     NaN         NaN   \n",
       "Sources:                                                  NaN         NaN   \n",
       "\n",
       "                                                    Unnamed: 4  Unnamed: 5  \\\n",
       "Global CO2 emissions from fossil fuel use and c...                           \n",
       "Emissions                                                  NaN         NaN   \n",
       "Substance:                                                 NaN         NaN   \n",
       "Unit:                                                      NaN         NaN   \n",
       "Date:                                                      NaN         NaN   \n",
       "Sources:                                                   NaN         NaN   \n",
       "\n",
       "                                                    Unnamed: 6  Unnamed: 7  \\\n",
       "Global CO2 emissions from fossil fuel use and c...                           \n",
       "Emissions                                                  NaN         NaN   \n",
       "Substance:                                                 NaN         NaN   \n",
       "Unit:                                                      NaN         NaN   \n",
       "Date:                                                      NaN         NaN   \n",
       "Sources:                                                   NaN         NaN   \n",
       "\n",
       "                                                    Unnamed: 8  Unnamed: 9  \\\n",
       "Global CO2 emissions from fossil fuel use and c...                           \n",
       "Emissions                                                  NaN         NaN   \n",
       "Substance:                                                 NaN         NaN   \n",
       "Unit:                                                      NaN         NaN   \n",
       "Date:                                                      NaN         NaN   \n",
       "Sources:                                                   NaN         NaN   \n",
       "\n",
       "                                                    Unnamed: 10  ...  \\\n",
       "Global CO2 emissions from fossil fuel use and c...               ...   \n",
       "Emissions                                                   NaN  ...   \n",
       "Substance:                                                  NaN  ...   \n",
       "Unit:                                                       NaN  ...   \n",
       "Date:                                                       NaN  ...   \n",
       "Sources:                                                    NaN  ...   \n",
       "\n",
       "                                                    Unnamed: 37  Unnamed: 38  \\\n",
       "Global CO2 emissions from fossil fuel use and c...                             \n",
       "Emissions                                                   NaN          NaN   \n",
       "Substance:                                                  NaN          NaN   \n",
       "Unit:                                                       NaN          NaN   \n",
       "Date:                                                       NaN          NaN   \n",
       "Sources:                                                    NaN          NaN   \n",
       "\n",
       "                                                    Unnamed: 39  Unnamed: 40  \\\n",
       "Global CO2 emissions from fossil fuel use and c...                             \n",
       "Emissions                                                   NaN          NaN   \n",
       "Substance:                                                  NaN          NaN   \n",
       "Unit:                                                       NaN          NaN   \n",
       "Date:                                                       NaN          NaN   \n",
       "Sources:                                                    NaN          NaN   \n",
       "\n",
       "                                                    Unnamed: 41  Unnamed: 42  \\\n",
       "Global CO2 emissions from fossil fuel use and c...                             \n",
       "Emissions                                                   NaN          NaN   \n",
       "Substance:                                                  NaN          NaN   \n",
       "Unit:                                                       NaN          NaN   \n",
       "Date:                                                       NaN          NaN   \n",
       "Sources:                                                    NaN          NaN   \n",
       "\n",
       "                                                    Unnamed: 43  Unnamed: 44  \\\n",
       "Global CO2 emissions from fossil fuel use and c...                             \n",
       "Emissions                                                   NaN          NaN   \n",
       "Substance:                                                  NaN          NaN   \n",
       "Unit:                                                       NaN          NaN   \n",
       "Date:                                                       NaN          NaN   \n",
       "Sources:                                                    NaN          NaN   \n",
       "\n",
       "                                                    Unnamed: 45  Unnamed: 46  \n",
       "Global CO2 emissions from fossil fuel use and c...                            \n",
       "Emissions                                                   NaN          NaN  \n",
       "Substance:                                                  NaN          NaN  \n",
       "Unit:                                                       NaN          NaN  \n",
       "Date:                                                       NaN          NaN  \n",
       "Sources:                                                    NaN          NaN  \n",
       "\n",
       "[5 rows x 46 columns]"
      ]
     },
     "execution_count": 6,
     "metadata": {},
     "output_type": "execute_result"
    }
   ],
   "source": [
    "df.head()"
   ]
  },
  {
   "cell_type": "code",
   "execution_count": 22,
   "id": "8abc7119-e503-4782-a17f-73185263324c",
   "metadata": {
    "pycharm": {
     "name": "#%%\n"
    }
   },
   "outputs": [
    {
     "data": {
      "image/png": "[encoded data removed]",
      "text/plain": [
       "<Figure size 432x288 with 1 Axes>"
      ]
     },
     "metadata": {
      "needs_background": "light"
     },
     "output_type": "display_data"
    }
   ],
   "source": [
    "co2_malaysia = df.loc['Malaysia']\n",
    "co2_france = df.loc['France']\n",
    "year = np.arange(1970, 2016)\n",
    "co2_malaysia.index = year\n",
    "co2_france.index = year\n",
    "\n",
    "plt.figure()\n",
    "plt.plot(year, co2_malaysia, '-b', label='Malaysia')\n",
    "plt.plot(year, co2_france, '-r', label='France')\n",
    "plt.legend()\n",
    "plt.show()"
   ]
  },
  {
   "cell_type": "code",
   "execution_count": 23,
   "id": "ef521ff5-caa8-4d29-8a04-9e6f09920644",
   "metadata": {
    "pycharm": {
     "name": "#%%\n"
    }
   },
   "outputs": [
    {
     "data": {
      "text/plain": [
       "<AxesSubplot:>"
      ]
     },
     "execution_count": 23,
     "metadata": {},
     "output_type": "execute_result"
    },
    {
     "data": {
      "image/png": "[encoded data removed]",
      "text/plain": [
       "<Figure size 432x288 with 1 Axes>"
      ]
     },
     "metadata": {
      "needs_background": "light"
     },
     "output_type": "display_data"
    }
   ],
   "source": [
    "conc = pd.concat([co2_france, co2_malaysia], axis=1)\n",
    "conc.plot()"
   ]
  }
 ],
 "metadata": {
  "kernelspec": {
   "display_name": "Python 3 (ipykernel)",
   "language": "python",
   "name": "python3"
  },
  "language_info": {
   "codemirror_mode": {
    "name": "ipython",
    "version": 3
   },
   "file_extension": ".py",
   "mimetype": "text/x-python",
   "name": "python",
   "nbconvert_exporter": "python",
   "pygments_lexer": "ipython3",
   "version": "3.8.10"
  }
 },
 "nbformat": 4,
 "nbformat_minor": 5
}