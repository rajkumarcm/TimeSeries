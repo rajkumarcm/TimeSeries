{
 "cells": [
  {
   "cell_type": "code",
   "execution_count": 1,
   "id": "0620d84d-fab4-4a38-83d6-904ffa69e4d9",
   "metadata": {
    "pycharm": {
     "name": "#%%\n"
    }
   },
   "outputs": [],
   "source": [
    "import numpy as np\n",
    "import pandas as pd\n",
    "from matplotlib import pyplot as plt\n",
    "import seaborn as sns"
   ]
  },
  {
   "cell_type": "code",
   "execution_count": 11,
   "id": "e69d0436-933c-4668-9f1a-630d46222d52",
   "metadata": {
    "pycharm": {
     "name": "#%%\n"
    }
   },
   "outputs": [],
   "source": [
    "uspoll = pd.read_csv('pollution_us_2000_2016.csv', header=0)\n",
    "# uspoll['Date Local'] = pd.to_datetime(uspoll['Date Local'])"
   ]
  },
  {
   "cell_type": "code",
   "execution_count": 13,
   "outputs": [
    {
     "data": {
      "text/plain": "       Unnamed: 0  State Code  County Code  Site Num  \\\n86554       86554          51           59         5   \n86555       86555          51           59         5   \n86556       86556          51           59         5   \n86557       86557          51           59         5   \n86558       86558          51           59         5   \n\n                                        Address     State   County  \\\n86554  CUB RUN LEE RD CHANT.(CUBRUN TREAT PLANT  Virginia  Fairfax   \n86555  CUB RUN LEE RD CHANT.(CUBRUN TREAT PLANT  Virginia  Fairfax   \n86556  CUB RUN LEE RD CHANT.(CUBRUN TREAT PLANT  Virginia  Fairfax   \n86557  CUB RUN LEE RD CHANT.(CUBRUN TREAT PLANT  Virginia  Fairfax   \n86558  CUB RUN LEE RD CHANT.(CUBRUN TREAT PLANT  Virginia  Fairfax   \n\n                City  Date Local          NO2 Units  ...          SO2 Units  \\\n86554  Not in a city  2000-01-01  Parts per billion  ...  Parts per billion   \n86555  Not in a city  2000-01-01  Parts per billion  ...  Parts per billion   \n86556  Not in a city  2000-01-01  Parts per billion  ...  Parts per billion   \n86557  Not in a city  2000-01-01  Parts per billion  ...  Parts per billion   \n86558  Not in a city  2000-01-02  Parts per billion  ...  Parts per billion   \n\n       SO2 Mean  SO2 1st Max Value  SO2 1st Max Hour SO2 AQI  \\\n86554     5.875               13.0                17    19.0   \n86555     5.875               13.0                17    19.0   \n86556     5.850               11.0                17     NaN   \n86557     5.850               11.0                17     NaN   \n86558     5.125                7.0                18    10.0   \n\n                CO Units   CO Mean  CO 1st Max Value  CO 1st Max Hour CO AQI  \n86554  Parts per million  0.591667               1.3                9    NaN  \n86555  Parts per million  0.636842               0.9               10   10.0  \n86556  Parts per million  0.591667               1.3                9    NaN  \n86557  Parts per million  0.636842               0.9               10   10.0  \n86558  Parts per million  0.250000               0.4                0    NaN  \n\n[5 rows x 29 columns]",
      "text/html": "<div>\n<style scoped>\n    .dataframe tbody tr th:only-of-type {\n        vertical-align: middle;\n    }\n\n    .dataframe tbody tr th {\n        vertical-align: top;\n    }\n\n    .dataframe thead th {\n        text-align: right;\n    }\n</style>\n<table border=\"1\" class=\"dataframe\">\n  <thead>\n    <tr style=\"text-align: right;\">\n      <th></th>\n      <th>Unnamed: 0</th>\n      <th>State Code</th>\n      <th>County Code</th>\n      <th>Site Num</th>\n      <th>Address</th>\n      <th>State</th>\n      <th>County</th>\n      <th>City</th>\n      <th>Date Local</th>\n      <th>NO2 Units</th>\n      <th>...</th>\n      <th>SO2 Units</th>\n      <th>SO2 Mean</th>\n      <th>SO2 1st Max Value</th>\n      <th>SO2 1st Max Hour</th>\n      <th>SO2 AQI</th>\n      <th>CO Units</th>\n      <th>CO Mean</th>\n      <th>CO 1st Max Value</th>\n      <th>CO 1st Max Hour</th>\n      <th>CO AQI</th>\n    </tr>\n  </thead>\n  <tbody>\n    <tr>\n      <th>86554</th>\n      <td>86554</td>\n      <td>51</td>\n      <td>59</td>\n      <td>5</td>\n      <td>CUB RUN LEE RD CHANT.(CUBRUN TREAT PLANT</td>\n      <td>Virginia</td>\n      <td>Fairfax</td>\n      <td>Not in a city</td>\n      <td>2000-01-01</td>\n      <td>Parts per billion</td>\n      <td>...</td>\n      <td>Parts per billion</td>\n      <td>5.875</td>\n      <td>13.0</td>\n      <td>17</td>\n      <td>19.0</td>\n      <td>Parts per million</td>\n      <td>0.591667</td>\n      <td>1.3</td>\n      <td>9</td>\n      <td>NaN</td>\n    </tr>\n    <tr>\n      <th>86555</th>\n      <td>86555</td>\n      <td>51</td>\n      <td>59</td>\n      <td>5</td>\n      <td>CUB RUN LEE RD CHANT.(CUBRUN TREAT PLANT</td>\n      <td>Virginia</td>\n      <td>Fairfax</td>\n      <td>Not in a city</td>\n      <td>2000-01-01</td>\n      <td>Parts per billion</td>\n      <td>...</td>\n      <td>Parts per billion</td>\n      <td>5.875</td>\n      <td>13.0</td>\n      <td>17</td>\n      <td>19.0</td>\n      <td>Parts per million</td>\n      <td>0.636842</td>\n      <td>0.9</td>\n      <td>10</td>\n      <td>10.0</td>\n    </tr>\n    <tr>\n      <th>86556</th>\n      <td>86556</td>\n      <td>51</td>\n      <td>59</td>\n      <td>5</td>\n      <td>CUB RUN LEE RD CHANT.(CUBRUN TREAT PLANT</td>\n      <td>Virginia</td>\n      <td>Fairfax</td>\n      <td>Not in a city</td>\n      <td>2000-01-01</td>\n      <td>Parts per billion</td>\n      <td>...</td>\n      <td>Parts per billion</td>\n      <td>5.850</td>\n      <td>11.0</td>\n      <td>17</td>\n      <td>NaN</td>\n      <td>Parts per million</td>\n      <td>0.591667</td>\n      <td>1.3</td>\n      <td>9</td>\n      <td>NaN</td>\n    </tr>\n    <tr>\n      <th>86557</th>\n      <td>86557</td>\n      <td>51</td>\n      <td>59</td>\n      <td>5</td>\n      <td>CUB RUN LEE RD CHANT.(CUBRUN TREAT PLANT</td>\n      <td>Virginia</td>\n      <td>Fairfax</td>\n      <td>Not in a city</td>\n      <td>2000-01-01</td>\n      <td>Parts per billion</td>\n      <td>...</td>\n      <td>Parts per billion</td>\n      <td>5.850</td>\n      <td>11.0</td>\n      <td>17</td>\n      <td>NaN</td>\n      <td>Parts per million</td>\n      <td>0.636842</td>\n      <td>0.9</td>\n      <td>10</td>\n      <td>10.0</td>\n    </tr>\n    <tr>\n      <th>86558</th>\n      <td>86558</td>\n      <td>51</td>\n      <td>59</td>\n      <td>5</td>\n      <td>CUB RUN LEE RD CHANT.(CUBRUN TREAT PLANT</td>\n      <td>Virginia</td>\n      <td>Fairfax</td>\n      <td>Not in a city</td>\n      <td>2000-01-02</td>\n      <td>Parts per billion</td>\n      <td>...</td>\n      <td>Parts per billion</td>\n      <td>5.125</td>\n      <td>7.0</td>\n      <td>18</td>\n      <td>10.0</td>\n      <td>Parts per million</td>\n      <td>0.250000</td>\n      <td>0.4</td>\n      <td>0</td>\n      <td>NaN</td>\n    </tr>\n  </tbody>\n</table>\n<p>5 rows × 29 columns</p>\n</div>"
     },
     "execution_count": 13,
     "metadata": {},
     "output_type": "execute_result"
    }
   ],
   "source": [
    "uspoll.loc[uspoll.State=='Virginia'].head()"
   ],
   "metadata": {
    "collapsed": false,
    "pycharm": {
     "name": "#%%\n"
    }
   }
  },
  {
   "cell_type": "code",
   "execution_count": 3,
   "id": "d8a14f76-f94e-44b8-9323-ba79dd55bd0c",
   "metadata": {
    "pycharm": {
     "name": "#%%\n"
    }
   },
   "outputs": [
    {
     "data": {
      "text/plain": "(1746661, 29)"
     },
     "execution_count": 3,
     "metadata": {},
     "output_type": "execute_result"
    }
   ],
   "source": [
    "uspoll.shape"
   ]
  },
  {
   "cell_type": "code",
   "execution_count": 4,
   "id": "dae1bffe-f6f1-4c12-9f0e-5889cb05006a",
   "metadata": {
    "pycharm": {
     "name": "#%%\n"
    }
   },
   "outputs": [
    {
     "data": {
      "text/plain": "Unnamed: 0                    int64\nState Code                    int64\nCounty Code                   int64\nSite Num                      int64\nAddress                      object\nState                        object\nCounty                       object\nCity                         object\nDate Local           datetime64[ns]\nNO2 Units                    object\nNO2 Mean                    float64\nNO2 1st Max Value           float64\nNO2 1st Max Hour              int64\nNO2 AQI                       int64\nO3 Units                     object\nO3 Mean                     float64\nO3 1st Max Value            float64\nO3 1st Max Hour               int64\nO3 AQI                        int64\nSO2 Units                    object\nSO2 Mean                    float64\nSO2 1st Max Value           float64\nSO2 1st Max Hour              int64\nSO2 AQI                     float64\nCO Units                     object\nCO Mean                     float64\nCO 1st Max Value            float64\nCO 1st Max Hour               int64\nCO AQI                      float64\ndtype: object"
     },
     "execution_count": 4,
     "metadata": {},
     "output_type": "execute_result"
    }
   ],
   "source": [
    "uspoll.dtypes"
   ]
  },
  {
   "cell_type": "code",
   "execution_count": 7,
   "outputs": [
    {
     "data": {
      "text/plain": "array(['Parts per billion'], dtype=object)"
     },
     "execution_count": 7,
     "metadata": {},
     "output_type": "execute_result"
    }
   ],
   "source": [
    "uspoll['NO2 Units'].unique()"
   ],
   "metadata": {
    "collapsed": false,
    "pycharm": {
     "name": "#%%\n"
    }
   }
  },
  {
   "cell_type": "code",
   "execution_count": 10,
   "outputs": [
    {
     "data": {
      "text/plain": "       Unnamed: 0  State Code  County Code  Site Num  \\\n86554       86554          51           59         5   \n86555       86555          51           59         5   \n86556       86556          51           59         5   \n86557       86557          51           59         5   \n86558       86558          51           59         5   \n\n                                        Address     State   County  \\\n86554  CUB RUN LEE RD CHANT.(CUBRUN TREAT PLANT  Virginia  Fairfax   \n86555  CUB RUN LEE RD CHANT.(CUBRUN TREAT PLANT  Virginia  Fairfax   \n86556  CUB RUN LEE RD CHANT.(CUBRUN TREAT PLANT  Virginia  Fairfax   \n86557  CUB RUN LEE RD CHANT.(CUBRUN TREAT PLANT  Virginia  Fairfax   \n86558  CUB RUN LEE RD CHANT.(CUBRUN TREAT PLANT  Virginia  Fairfax   \n\n                City Date Local          NO2 Units  ...          SO2 Units  \\\n86554  Not in a city 2000-01-01  Parts per billion  ...  Parts per billion   \n86555  Not in a city 2000-01-01  Parts per billion  ...  Parts per billion   \n86556  Not in a city 2000-01-01  Parts per billion  ...  Parts per billion   \n86557  Not in a city 2000-01-01  Parts per billion  ...  Parts per billion   \n86558  Not in a city 2000-01-02  Parts per billion  ...  Parts per billion   \n\n       SO2 Mean  SO2 1st Max Value  SO2 1st Max Hour SO2 AQI  \\\n86554     5.875               13.0                17    19.0   \n86555     5.875               13.0                17    19.0   \n86556     5.850               11.0                17     NaN   \n86557     5.850               11.0                17     NaN   \n86558     5.125                7.0                18    10.0   \n\n                CO Units   CO Mean  CO 1st Max Value  CO 1st Max Hour CO AQI  \n86554  Parts per million  0.591667               1.3                9    NaN  \n86555  Parts per million  0.636842               0.9               10   10.0  \n86556  Parts per million  0.591667               1.3                9    NaN  \n86557  Parts per million  0.636842               0.9               10   10.0  \n86558  Parts per million  0.250000               0.4                0    NaN  \n\n[5 rows x 29 columns]",
      "text/html": "<div>\n<style scoped>\n    .dataframe tbody tr th:only-of-type {\n        vertical-align: middle;\n    }\n\n    .dataframe tbody tr th {\n        vertical-align: top;\n    }\n\n    .dataframe thead th {\n        text-align: right;\n    }\n</style>\n<table border=\"1\" class=\"dataframe\">\n  <thead>\n    <tr style=\"text-align: right;\">\n      <th></th>\n      <th>Unnamed: 0</th>\n      <th>State Code</th>\n      <th>County Code</th>\n      <th>Site Num</th>\n      <th>Address</th>\n      <th>State</th>\n      <th>County</th>\n      <th>City</th>\n      <th>Date Local</th>\n      <th>NO2 Units</th>\n      <th>...</th>\n      <th>SO2 Units</th>\n      <th>SO2 Mean</th>\n      <th>SO2 1st Max Value</th>\n      <th>SO2 1st Max Hour</th>\n      <th>SO2 AQI</th>\n      <th>CO Units</th>\n      <th>CO Mean</th>\n      <th>CO 1st Max Value</th>\n      <th>CO 1st Max Hour</th>\n      <th>CO AQI</th>\n    </tr>\n  </thead>\n  <tbody>\n    <tr>\n      <th>86554</th>\n      <td>86554</td>\n      <td>51</td>\n      <td>59</td>\n      <td>5</td>\n      <td>CUB RUN LEE RD CHANT.(CUBRUN TREAT PLANT</td>\n      <td>Virginia</td>\n      <td>Fairfax</td>\n      <td>Not in a city</td>\n      <td>2000-01-01</td>\n      <td>Parts per billion</td>\n      <td>...</td>\n      <td>Parts per billion</td>\n      <td>5.875</td>\n      <td>13.0</td>\n      <td>17</td>\n      <td>19.0</td>\n      <td>Parts per million</td>\n      <td>0.591667</td>\n      <td>1.3</td>\n      <td>9</td>\n      <td>NaN</td>\n    </tr>\n    <tr>\n      <th>86555</th>\n      <td>86555</td>\n      <td>51</td>\n      <td>59</td>\n      <td>5</td>\n      <td>CUB RUN LEE RD CHANT.(CUBRUN TREAT PLANT</td>\n      <td>Virginia</td>\n      <td>Fairfax</td>\n      <td>Not in a city</td>\n      <td>2000-01-01</td>\n      <td>Parts per billion</td>\n      <td>...</td>\n      <td>Parts per billion</td>\n      <td>5.875</td>\n      <td>13.0</td>\n      <td>17</td>\n      <td>19.0</td>\n      <td>Parts per million</td>\n      <td>0.636842</td>\n      <td>0.9</td>\n      <td>10</td>\n      <td>10.0</td>\n    </tr>\n    <tr>\n      <th>86556</th>\n      <td>86556</td>\n      <td>51</td>\n      <td>59</td>\n      <td>5</td>\n      <td>CUB RUN LEE RD CHANT.(CUBRUN TREAT PLANT</td>\n      <td>Virginia</td>\n      <td>Fairfax</td>\n      <td>Not in a city</td>\n      <td>2000-01-01</td>\n      <td>Parts per billion</td>\n      <td>...</td>\n      <td>Parts per billion</td>\n      <td>5.850</td>\n      <td>11.0</td>\n      <td>17</td>\n      <td>NaN</td>\n      <td>Parts per million</td>\n      <td>0.591667</td>\n      <td>1.3</td>\n      <td>9</td>\n      <td>NaN</td>\n    </tr>\n    <tr>\n      <th>86557</th>\n      <td>86557</td>\n      <td>51</td>\n      <td>59</td>\n      <td>5</td>\n      <td>CUB RUN LEE RD CHANT.(CUBRUN TREAT PLANT</td>\n      <td>Virginia</td>\n      <td>Fairfax</td>\n      <td>Not in a city</td>\n      <td>2000-01-01</td>\n      <td>Parts per billion</td>\n      <td>...</td>\n      <td>Parts per billion</td>\n      <td>5.850</td>\n      <td>11.0</td>\n      <td>17</td>\n      <td>NaN</td>\n      <td>Parts per million</td>\n      <td>0.636842</td>\n      <td>0.9</td>\n      <td>10</td>\n      <td>10.0</td>\n    </tr>\n    <tr>\n      <th>86558</th>\n      <td>86558</td>\n      <td>51</td>\n      <td>59</td>\n      <td>5</td>\n      <td>CUB RUN LEE RD CHANT.(CUBRUN TREAT PLANT</td>\n      <td>Virginia</td>\n      <td>Fairfax</td>\n      <td>Not in a city</td>\n      <td>2000-01-02</td>\n      <td>Parts per billion</td>\n      <td>...</td>\n      <td>Parts per billion</td>\n      <td>5.125</td>\n      <td>7.0</td>\n      <td>18</td>\n      <td>10.0</td>\n      <td>Parts per million</td>\n      <td>0.250000</td>\n      <td>0.4</td>\n      <td>0</td>\n      <td>NaN</td>\n    </tr>\n  </tbody>\n</table>\n<p>5 rows × 29 columns</p>\n</div>"
     },
     "execution_count": 10,
     "metadata": {},
     "output_type": "execute_result"
    }
   ],
   "source": [],
   "metadata": {
    "collapsed": false,
    "pycharm": {
     "name": "#%%\n"
    }
   }
  },
  {
   "cell_type": "code",
   "execution_count": 5,
   "id": "9ad5f029-dd96-4a92-85c5-23b9d1c45740",
   "metadata": {
    "pycharm": {
     "name": "#%%\n"
    }
   },
   "outputs": [
    {
     "data": {
      "text/plain": "1.746661"
     },
     "execution_count": 5,
     "metadata": {},
     "output_type": "execute_result"
    }
   ],
   "source": [
    "1746661/1000000"
   ]
  },
  {
   "cell_type": "code",
   "execution_count": 6,
   "id": "47bdb1ea-688b-44c6-b6ce-f1aebf852776",
   "metadata": {
    "pycharm": {
     "name": "#%%\n"
    }
   },
   "outputs": [
    {
     "data": {
      "text/plain": "   Unnamed: 0  State Code  County Code  Site Num  \\\n0           0           4           13      3002   \n1           1           4           13      3002   \n2           2           4           13      3002   \n3           3           4           13      3002   \n4           4           4           13      3002   \n\n                                   Address    State    County     City  \\\n0  1645 E ROOSEVELT ST-CENTRAL PHOENIX STN  Arizona  Maricopa  Phoenix   \n1  1645 E ROOSEVELT ST-CENTRAL PHOENIX STN  Arizona  Maricopa  Phoenix   \n2  1645 E ROOSEVELT ST-CENTRAL PHOENIX STN  Arizona  Maricopa  Phoenix   \n3  1645 E ROOSEVELT ST-CENTRAL PHOENIX STN  Arizona  Maricopa  Phoenix   \n4  1645 E ROOSEVELT ST-CENTRAL PHOENIX STN  Arizona  Maricopa  Phoenix   \n\n  Date Local          NO2 Units  ...          SO2 Units  SO2 Mean  \\\n0 2000-01-01  Parts per billion  ...  Parts per billion  3.000000   \n1 2000-01-01  Parts per billion  ...  Parts per billion  3.000000   \n2 2000-01-01  Parts per billion  ...  Parts per billion  2.975000   \n3 2000-01-01  Parts per billion  ...  Parts per billion  2.975000   \n4 2000-01-02  Parts per billion  ...  Parts per billion  1.958333   \n\n   SO2 1st Max Value  SO2 1st Max Hour SO2 AQI           CO Units   CO Mean  \\\n0                9.0                21    13.0  Parts per million  1.145833   \n1                9.0                21    13.0  Parts per million  0.878947   \n2                6.6                23     NaN  Parts per million  1.145833   \n3                6.6                23     NaN  Parts per million  0.878947   \n4                3.0                22     4.0  Parts per million  0.850000   \n\n   CO 1st Max Value  CO 1st Max Hour CO AQI  \n0               4.2               21    NaN  \n1               2.2               23   25.0  \n2               4.2               21    NaN  \n3               2.2               23   25.0  \n4               1.6               23    NaN  \n\n[5 rows x 29 columns]",
      "text/html": "<div>\n<style scoped>\n    .dataframe tbody tr th:only-of-type {\n        vertical-align: middle;\n    }\n\n    .dataframe tbody tr th {\n        vertical-align: top;\n    }\n\n    .dataframe thead th {\n        text-align: right;\n    }\n</style>\n<table border=\"1\" class=\"dataframe\">\n  <thead>\n    <tr style=\"text-align: right;\">\n      <th></th>\n      <th>Unnamed: 0</th>\n      <th>State Code</th>\n      <th>County Code</th>\n      <th>Site Num</th>\n      <th>Address</th>\n      <th>State</th>\n      <th>County</th>\n      <th>City</th>\n      <th>Date Local</th>\n      <th>NO2 Units</th>\n      <th>...</th>\n      <th>SO2 Units</th>\n      <th>SO2 Mean</th>\n      <th>SO2 1st Max Value</th>\n      <th>SO2 1st Max Hour</th>\n      <th>SO2 AQI</th>\n      <th>CO Units</th>\n      <th>CO Mean</th>\n      <th>CO 1st Max Value</th>\n      <th>CO 1st Max Hour</th>\n      <th>CO AQI</th>\n    </tr>\n  </thead>\n  <tbody>\n    <tr>\n      <th>0</th>\n      <td>0</td>\n      <td>4</td>\n      <td>13</td>\n      <td>3002</td>\n      <td>1645 E ROOSEVELT ST-CENTRAL PHOENIX STN</td>\n      <td>Arizona</td>\n      <td>Maricopa</td>\n      <td>Phoenix</td>\n      <td>2000-01-01</td>\n      <td>Parts per billion</td>\n      <td>...</td>\n      <td>Parts per billion</td>\n      <td>3.000000</td>\n      <td>9.0</td>\n      <td>21</td>\n      <td>13.0</td>\n      <td>Parts per million</td>\n      <td>1.145833</td>\n      <td>4.2</td>\n      <td>21</td>\n      <td>NaN</td>\n    </tr>\n    <tr>\n      <th>1</th>\n      <td>1</td>\n      <td>4</td>\n      <td>13</td>\n      <td>3002</td>\n      <td>1645 E ROOSEVELT ST-CENTRAL PHOENIX STN</td>\n      <td>Arizona</td>\n      <td>Maricopa</td>\n      <td>Phoenix</td>\n      <td>2000-01-01</td>\n      <td>Parts per billion</td>\n      <td>...</td>\n      <td>Parts per billion</td>\n      <td>3.000000</td>\n      <td>9.0</td>\n      <td>21</td>\n      <td>13.0</td>\n      <td>Parts per million</td>\n      <td>0.878947</td>\n      <td>2.2</td>\n      <td>23</td>\n      <td>25.0</td>\n    </tr>\n    <tr>\n      <th>2</th>\n      <td>2</td>\n      <td>4</td>\n      <td>13</td>\n      <td>3002</td>\n      <td>1645 E ROOSEVELT ST-CENTRAL PHOENIX STN</td>\n      <td>Arizona</td>\n      <td>Maricopa</td>\n      <td>Phoenix</td>\n      <td>2000-01-01</td>\n      <td>Parts per billion</td>\n      <td>...</td>\n      <td>Parts per billion</td>\n      <td>2.975000</td>\n      <td>6.6</td>\n      <td>23</td>\n      <td>NaN</td>\n      <td>Parts per million</td>\n      <td>1.145833</td>\n      <td>4.2</td>\n      <td>21</td>\n      <td>NaN</td>\n    </tr>\n    <tr>\n      <th>3</th>\n      <td>3</td>\n      <td>4</td>\n      <td>13</td>\n      <td>3002</td>\n      <td>1645 E ROOSEVELT ST-CENTRAL PHOENIX STN</td>\n      <td>Arizona</td>\n      <td>Maricopa</td>\n      <td>Phoenix</td>\n      <td>2000-01-01</td>\n      <td>Parts per billion</td>\n      <td>...</td>\n      <td>Parts per billion</td>\n      <td>2.975000</td>\n      <td>6.6</td>\n      <td>23</td>\n      <td>NaN</td>\n      <td>Parts per million</td>\n      <td>0.878947</td>\n      <td>2.2</td>\n      <td>23</td>\n      <td>25.0</td>\n    </tr>\n    <tr>\n      <th>4</th>\n      <td>4</td>\n      <td>4</td>\n      <td>13</td>\n      <td>3002</td>\n      <td>1645 E ROOSEVELT ST-CENTRAL PHOENIX STN</td>\n      <td>Arizona</td>\n      <td>Maricopa</td>\n      <td>Phoenix</td>\n      <td>2000-01-02</td>\n      <td>Parts per billion</td>\n      <td>...</td>\n      <td>Parts per billion</td>\n      <td>1.958333</td>\n      <td>3.0</td>\n      <td>22</td>\n      <td>4.0</td>\n      <td>Parts per million</td>\n      <td>0.850000</td>\n      <td>1.6</td>\n      <td>23</td>\n      <td>NaN</td>\n    </tr>\n  </tbody>\n</table>\n<p>5 rows × 29 columns</p>\n</div>"
     },
     "execution_count": 6,
     "metadata": {},
     "output_type": "execute_result"
    }
   ],
   "source": [
    "uspoll.head()"
   ]
  },
  {
   "cell_type": "code",
   "execution_count": 4,
   "id": "26fd579d-2580-4613-a2fc-20c45c925084",
   "metadata": {
    "pycharm": {
     "name": "#%%\n"
    }
   },
   "outputs": [
    {
     "data": {
      "text/plain": [
       "Index(['Unnamed: 0', 'State Code', 'County Code', 'Site Num', 'Address',\n",
       "       'State', 'County', 'City', 'Date Local', 'NO2 Units', 'NO2 Mean',\n",
       "       'NO2 1st Max Value', 'NO2 1st Max Hour', 'NO2 AQI', 'O3 Units',\n",
       "       'O3 Mean', 'O3 1st Max Value', 'O3 1st Max Hour', 'O3 AQI', 'SO2 Units',\n",
       "       'SO2 Mean', 'SO2 1st Max Value', 'SO2 1st Max Hour', 'SO2 AQI',\n",
       "       'CO Units', 'CO Mean', 'CO 1st Max Value', 'CO 1st Max Hour', 'CO AQI'],\n",
       "      dtype='object')"
      ]
     },
     "execution_count": 4,
     "metadata": {},
     "output_type": "execute_result"
    }
   ],
   "source": [
    "uspoll.columns"
   ]
  },
  {
   "cell_type": "code",
   "execution_count": 5,
   "id": "901d4249-c181-4811-9554-72c77d17222d",
   "metadata": {
    "pycharm": {
     "name": "#%%\n"
    }
   },
   "outputs": [
    {
     "name": "stderr",
     "output_type": "stream",
     "text": [
      "/tmp/ipykernel_416/1444301077.py:1: FutureWarning: Treating datetime data as categorical rather than numeric in `.describe` is deprecated and will be removed in a future version of pandas. Specify `datetime_is_numeric=True` to silence this warning and adopt the future behavior now.\n",
      "  uspoll.loc[uspoll.State=='Alaska', 'Date Local'].describe()\n"
     ]
    },
    {
     "data": {
      "text/plain": [
       "count                    1974\n",
       "unique                    494\n",
       "top       2014-07-01 00:00:00\n",
       "freq                        4\n",
       "first     2014-07-01 00:00:00\n",
       "last      2015-12-31 00:00:00\n",
       "Name: Date Local, dtype: object"
      ]
     },
     "execution_count": 5,
     "metadata": {},
     "output_type": "execute_result"
    }
   ],
   "source": [
    "uspoll.loc[uspoll.State=='Alaska', 'Date Local'].describe()"
   ]
  },
  {
   "cell_type": "code",
   "execution_count": 6,
   "id": "55e135a2-0ef7-46ee-b4da-26acc1ceebab",
   "metadata": {
    "pycharm": {
     "name": "#%%\n"
    }
   },
   "outputs": [],
   "source": [
    "first_date_by_state = uspoll[['State', 'Date Local']].groupby(['State']).agg('first')"
   ]
  },
  {
   "cell_type": "code",
   "execution_count": 7,
   "id": "705a7627-a910-4031-9ecc-05701a76012c",
   "metadata": {
    "pycharm": {
     "name": "#%%\n"
    }
   },
   "outputs": [
    {
     "data": {
      "image/png": "[encoded data removed]",
      "text/plain": [
       "<Figure size 864x576 with 1 Axes>"
      ]
     },
     "metadata": {
      "needs_background": "light"
     },
     "output_type": "display_data"
    }
   ],
   "source": [
    "plt.figure(figsize=(12, 8))\n",
    "plt.stem(first_date_by_state.index.values, first_date_by_state['Date Local'])\n",
    "plt.axhline(y=first_date_by_state.min(), color='r')\n",
    "plt.xticks(rotation=90)\n",
    "plt.ylabel('Start Date')\n",
    "plt.title('Start date for each state')\n",
    "plt.show()"
   ]
  },
  {
   "cell_type": "code",
   "execution_count": 8,
   "id": "80de30a0-caea-4b22-8733-55bb31bbcd17",
   "metadata": {
    "pycharm": {
     "name": "#%%\n"
    }
   },
   "outputs": [],
   "source": [
    "last_date_by_state = uspoll[['State', 'Date Local']].groupby(['State']).agg('last')"
   ]
  },
  {
   "cell_type": "code",
   "execution_count": 9,
   "id": "59aa9393-34ba-4919-bf93-bb370ebe0c0a",
   "metadata": {
    "pycharm": {
     "name": "#%%\n"
    }
   },
   "outputs": [
    {
     "data": {
      "image/png": "[encoded data removed]",
      "text/plain": [
       "<Figure size 864x576 with 1 Axes>"
      ]
     },
     "metadata": {
      "needs_background": "light"
     },
     "output_type": "display_data"
    }
   ],
   "source": [
    "plt.figure(figsize=(12, 8))\n",
    "plt.stem(last_date_by_state.index.values, last_date_by_state['Date Local'])\n",
    "plt.axhline(y=last_date_by_state.min(), color='r')\n",
    "plt.xticks(rotation=90)\n",
    "plt.ylabel('Last Date')\n",
    "plt.title('Last date for each state')\n",
    "plt.show()"
   ]
  },
  {
   "cell_type": "code",
   "execution_count": 10,
   "id": "f32d5c8c-6187-4b73-b874-48be03af42b1",
   "metadata": {
    "pycharm": {
     "name": "#%%\n"
    }
   },
   "outputs": [],
   "source": [
    "equal_df = uspoll.loc[(uspoll['Date Local'] >= first_date_by_state.min().to_numpy()[0]).reset_index(drop=True) &\n",
    "                      (uspoll['Date Local'] <= last_date_by_state.min().to_numpy()[0]).reset_index(drop=True)]"
   ]
  },
  {
   "cell_type": "code",
   "execution_count": 11,
   "id": "25621893-ae90-4bdb-b304-3663a1e0ba0c",
   "metadata": {
    "pycharm": {
     "name": "#%%\n"
    }
   },
   "outputs": [
    {
     "data": {
      "text/plain": [
       "count                           636836\n",
       "mean     2003-07-24 04:52:47.866137856\n",
       "min                2000-01-01 00:00:00\n",
       "25%                2001-09-28 00:00:00\n",
       "50%                2003-06-29 00:00:00\n",
       "75%                2005-06-07 00:00:00\n",
       "max                2007-01-31 00:00:00\n",
       "Name: Date Local, dtype: object"
      ]
     },
     "execution_count": 11,
     "metadata": {},
     "output_type": "execute_result"
    }
   ],
   "source": [
    "equal_df['Date Local'].describe(datetime_is_numeric=True)"
   ]
  },
  {
   "cell_type": "code",
   "execution_count": 12,
   "id": "6195569d-99a2-449b-8bcd-83e26b347290",
   "metadata": {
    "pycharm": {
     "name": "#%%\n"
    }
   },
   "outputs": [
    {
     "data": {
      "text/plain": [
       "(636836, 29)"
      ]
     },
     "execution_count": 12,
     "metadata": {},
     "output_type": "execute_result"
    }
   ],
   "source": [
    "equal_df.shape"
   ]
  },
  {
   "cell_type": "code",
   "execution_count": 13,
   "id": "3ccc2ab0-fbc8-4317-8b16-41c960f961a6",
   "metadata": {
    "pycharm": {
     "name": "#%%\n"
    }
   },
   "outputs": [
    {
     "data": {
      "text/plain": [
       "Index(['Unnamed: 0', 'State Code', 'County Code', 'Site Num', 'Address',\n",
       "       'State', 'County', 'City', 'Date Local', 'NO2 Units', 'NO2 Mean',\n",
       "       'NO2 1st Max Value', 'NO2 1st Max Hour', 'NO2 AQI', 'O3 Units',\n",
       "       'O3 Mean', 'O3 1st Max Value', 'O3 1st Max Hour', 'O3 AQI', 'SO2 Units',\n",
       "       'SO2 Mean', 'SO2 1st Max Value', 'SO2 1st Max Hour', 'SO2 AQI',\n",
       "       'CO Units', 'CO Mean', 'CO 1st Max Value', 'CO 1st Max Hour', 'CO AQI'],\n",
       "      dtype='object')"
      ]
     },
     "execution_count": 13,
     "metadata": {},
     "output_type": "execute_result"
    }
   ],
   "source": [
    "equal_df.columns"
   ]
  },
  {
   "cell_type": "code",
   "execution_count": 16,
   "id": "0a79d027-bd86-4426-96bd-a62968584a08",
   "metadata": {
    "pycharm": {
     "name": "#%%\n"
    }
   },
   "outputs": [
    {
     "data": {
      "text/plain": [
       "(8178, 29)"
      ]
     },
     "execution_count": 16,
     "metadata": {},
     "output_type": "execute_result"
    }
   ],
   "source": [
    "equal_df.loc[equal_df.State=='Michigan',].shape"
   ]
  },
  {
   "cell_type": "code",
   "execution_count": 46,
   "id": "11b3595a-b5bb-4b44-b42c-89b6b15989dc",
   "metadata": {
    "pycharm": {
     "name": "#%%\n"
    }
   },
   "outputs": [
    {
     "data": {
      "text/html": [
       "<div>\n",
       "<style scoped>\n",
       "    .dataframe tbody tr th:only-of-type {\n",
       "        vertical-align: middle;\n",
       "    }\n",
       "\n",
       "    .dataframe tbody tr th {\n",
       "        vertical-align: top;\n",
       "    }\n",
       "\n",
       "    .dataframe thead th {\n",
       "        text-align: right;\n",
       "    }\n",
       "</style>\n",
       "<table border=\"1\" class=\"dataframe\">\n",
       "  <thead>\n",
       "    <tr style=\"text-align: right;\">\n",
       "      <th></th>\n",
       "      <th>Unnamed: 0</th>\n",
       "      <th>State Code</th>\n",
       "      <th>County Code</th>\n",
       "      <th>Site Num</th>\n",
       "      <th>Address</th>\n",
       "      <th>State</th>\n",
       "      <th>County</th>\n",
       "      <th>City</th>\n",
       "      <th>Date Local</th>\n",
       "      <th>NO2 Units</th>\n",
       "      <th>...</th>\n",
       "      <th>SO2 Units</th>\n",
       "      <th>SO2 Mean</th>\n",
       "      <th>SO2 1st Max Value</th>\n",
       "      <th>SO2 1st Max Hour</th>\n",
       "      <th>SO2 AQI</th>\n",
       "      <th>CO Units</th>\n",
       "      <th>CO Mean</th>\n",
       "      <th>CO 1st Max Value</th>\n",
       "      <th>CO 1st Max Hour</th>\n",
       "      <th>CO AQI</th>\n",
       "    </tr>\n",
       "  </thead>\n",
       "  <tbody>\n",
       "  </tbody>\n",
       "</table>\n",
       "<p>0 rows × 29 columns</p>\n",
       "</div>"
      ],
      "text/plain": [
       "Empty DataFrame\n",
       "Columns: [Unnamed: 0, State Code, County Code, Site Num, Address, State, County, City, Date Local, NO2 Units, NO2 Mean, NO2 1st Max Value, NO2 1st Max Hour, NO2 AQI, O3 Units, O3 Mean, O3 1st Max Value, O3 1st Max Hour, O3 AQI, SO2 Units, SO2 Mean, SO2 1st Max Value, SO2 1st Max Hour, SO2 AQI, CO Units, CO Mean, CO 1st Max Value, CO 1st Max Hour, CO AQI]\n",
       "Index: []\n",
       "\n",
       "[0 rows x 29 columns]"
      ]
     },
     "execution_count": 46,
     "metadata": {},
     "output_type": "execute_result"
    }
   ],
   "source": [
    "equal_df.loc[equal_df['Date Local'].isnull()].head()"
   ]
  },
  {
   "cell_type": "code",
   "execution_count": 66,
   "id": "2de76c05-b354-4b1f-bb6f-fa187125a995",
   "metadata": {
    "pycharm": {
     "name": "#%%\n"
    }
   },
   "outputs": [
    {
     "data": {
      "text/html": [
       "<div>\n",
       "<style scoped>\n",
       "    .dataframe tbody tr th:only-of-type {\n",
       "        vertical-align: middle;\n",
       "    }\n",
       "\n",
       "    .dataframe tbody tr th {\n",
       "        vertical-align: top;\n",
       "    }\n",
       "\n",
       "    .dataframe thead th {\n",
       "        text-align: right;\n",
       "    }\n",
       "</style>\n",
       "<table border=\"1\" class=\"dataframe\">\n",
       "  <thead>\n",
       "    <tr style=\"text-align: right;\">\n",
       "      <th></th>\n",
       "      <th>Date Local</th>\n",
       "    </tr>\n",
       "    <tr>\n",
       "      <th>State</th>\n",
       "      <th></th>\n",
       "    </tr>\n",
       "  </thead>\n",
       "  <tbody>\n",
       "    <tr>\n",
       "      <th>Arizona</th>\n",
       "      <td>14893</td>\n",
       "    </tr>\n",
       "    <tr>\n",
       "      <th>Arkansas</th>\n",
       "      <td>62</td>\n",
       "    </tr>\n",
       "    <tr>\n",
       "      <th>California</th>\n",
       "      <td>126668</td>\n",
       "    </tr>\n",
       "    <tr>\n",
       "      <th>Colorado</th>\n",
       "      <td>5623</td>\n",
       "    </tr>\n",
       "    <tr>\n",
       "      <th>Connecticut</th>\n",
       "      <td>344</td>\n",
       "    </tr>\n",
       "    <tr>\n",
       "      <th>Country Of Mexico</th>\n",
       "      <td>2058</td>\n",
       "    </tr>\n",
       "    <tr>\n",
       "      <th>District Of Columbia</th>\n",
       "      <td>5106</td>\n",
       "    </tr>\n",
       "    <tr>\n",
       "      <th>Florida</th>\n",
       "      <td>5156</td>\n",
       "    </tr>\n",
       "    <tr>\n",
       "      <th>Illinois</th>\n",
       "      <td>9122</td>\n",
       "    </tr>\n",
       "    <tr>\n",
       "      <th>Indiana</th>\n",
       "      <td>2304</td>\n",
       "    </tr>\n",
       "    <tr>\n",
       "      <th>Iowa</th>\n",
       "      <td>62</td>\n",
       "    </tr>\n",
       "    <tr>\n",
       "      <th>Kansas</th>\n",
       "      <td>9464</td>\n",
       "    </tr>\n",
       "    <tr>\n",
       "      <th>Kentucky</th>\n",
       "      <td>6456</td>\n",
       "    </tr>\n",
       "    <tr>\n",
       "      <th>Louisiana</th>\n",
       "      <td>5375</td>\n",
       "    </tr>\n",
       "    <tr>\n",
       "      <th>Maine</th>\n",
       "      <td>642</td>\n",
       "    </tr>\n",
       "    <tr>\n",
       "      <th>Maryland</th>\n",
       "      <td>388</td>\n",
       "    </tr>\n",
       "    <tr>\n",
       "      <th>Massachusetts</th>\n",
       "      <td>4326</td>\n",
       "    </tr>\n",
       "    <tr>\n",
       "      <th>Michigan</th>\n",
       "      <td>4086</td>\n",
       "    </tr>\n",
       "    <tr>\n",
       "      <th>Missouri</th>\n",
       "      <td>7318</td>\n",
       "    </tr>\n",
       "    <tr>\n",
       "      <th>Nevada</th>\n",
       "      <td>1212</td>\n",
       "    </tr>\n",
       "    <tr>\n",
       "      <th>New Hampshire</th>\n",
       "      <td>1836</td>\n",
       "    </tr>\n",
       "    <tr>\n",
       "      <th>New Jersey</th>\n",
       "      <td>5929</td>\n",
       "    </tr>\n",
       "    <tr>\n",
       "      <th>New York</th>\n",
       "      <td>14960</td>\n",
       "    </tr>\n",
       "    <tr>\n",
       "      <th>North Carolina</th>\n",
       "      <td>5408</td>\n",
       "    </tr>\n",
       "    <tr>\n",
       "      <th>Oklahoma</th>\n",
       "      <td>6224</td>\n",
       "    </tr>\n",
       "    <tr>\n",
       "      <th>Pennsylvania</th>\n",
       "      <td>47006</td>\n",
       "    </tr>\n",
       "    <tr>\n",
       "      <th>South Carolina</th>\n",
       "      <td>978</td>\n",
       "    </tr>\n",
       "    <tr>\n",
       "      <th>Tennessee</th>\n",
       "      <td>934</td>\n",
       "    </tr>\n",
       "    <tr>\n",
       "      <th>Texas</th>\n",
       "      <td>18435</td>\n",
       "    </tr>\n",
       "    <tr>\n",
       "      <th>Virginia</th>\n",
       "      <td>5164</td>\n",
       "    </tr>\n",
       "    <tr>\n",
       "      <th>Wisconsin</th>\n",
       "      <td>758</td>\n",
       "    </tr>\n",
       "    <tr>\n",
       "      <th>Wyoming</th>\n",
       "      <td>62</td>\n",
       "    </tr>\n",
       "  </tbody>\n",
       "</table>\n",
       "</div>"
      ],
      "text/plain": [
       "                      Date Local\n",
       "State                           \n",
       "Arizona                    14893\n",
       "Arkansas                      62\n",
       "California                126668\n",
       "Colorado                    5623\n",
       "Connecticut                  344\n",
       "Country Of Mexico           2058\n",
       "District Of Columbia        5106\n",
       "Florida                     5156\n",
       "Illinois                    9122\n",
       "Indiana                     2304\n",
       "Iowa                          62\n",
       "Kansas                      9464\n",
       "Kentucky                    6456\n",
       "Louisiana                   5375\n",
       "Maine                        642\n",
       "Maryland                     388\n",
       "Massachusetts               4326\n",
       "Michigan                    4086\n",
       "Missouri                    7318\n",
       "Nevada                      1212\n",
       "New Hampshire               1836\n",
       "New Jersey                  5929\n",
       "New York                   14960\n",
       "North Carolina              5408\n",
       "Oklahoma                    6224\n",
       "Pennsylvania               47006\n",
       "South Carolina               978\n",
       "Tennessee                    934\n",
       "Texas                      18435\n",
       "Virginia                    5164\n",
       "Wisconsin                    758\n",
       "Wyoming                       62"
      ]
     },
     "execution_count": 66,
     "metadata": {},
     "output_type": "execute_result"
    }
   ],
   "source": [
    "equal_df.loc[equal_df['CO AQI'].isnull(), ['State', 'Date Local']].groupby('State').agg('count')"
   ]
  },
  {
   "cell_type": "code",
   "execution_count": 16,
   "id": "2878e4aa-dcba-436e-bf50-fae7032d76a9",
   "metadata": {
    "pycharm": {
     "name": "#%%\n"
    }
   },
   "outputs": [
    {
     "data": {
      "text/plain": [
       "(159278, 29)"
      ]
     },
     "execution_count": 16,
     "metadata": {},
     "output_type": "execute_result"
    }
   ],
   "source": [
    "equal_df = equal_df.dropna()\n",
    "equal_df.shape"
   ]
  },
  {
   "cell_type": "code",
   "execution_count": 29,
   "id": "4b25e7f9-782d-420a-b2a0-e1c361b29aae",
   "metadata": {
    "pycharm": {
     "name": "#%%\n"
    }
   },
   "outputs": [
    {
     "name": "stderr",
     "output_type": "stream",
     "text": [
      "/tmp/ipykernel_4731/4108695504.py:1: FutureWarning: Treating datetime data as categorical rather than numeric in `.describe` is deprecated and will be removed in a future version of pandas. Specify `datetime_is_numeric=True` to silence this warning and adopt the future behavior now.\n",
      "  equal_df[['State', 'Date Local']].describe()\n"
     ]
    },
    {
     "data": {
      "text/html": [
       "<div>\n",
       "<style scoped>\n",
       "    .dataframe tbody tr th:only-of-type {\n",
       "        vertical-align: middle;\n",
       "    }\n",
       "\n",
       "    .dataframe tbody tr th {\n",
       "        vertical-align: top;\n",
       "    }\n",
       "\n",
       "    .dataframe thead th {\n",
       "        text-align: right;\n",
       "    }\n",
       "</style>\n",
       "<table border=\"1\" class=\"dataframe\">\n",
       "  <thead>\n",
       "    <tr style=\"text-align: right;\">\n",
       "      <th></th>\n",
       "      <th>State</th>\n",
       "      <th>Date Local</th>\n",
       "    </tr>\n",
       "  </thead>\n",
       "  <tbody>\n",
       "    <tr>\n",
       "      <th>count</th>\n",
       "      <td>159278</td>\n",
       "      <td>159278</td>\n",
       "    </tr>\n",
       "    <tr>\n",
       "      <th>unique</th>\n",
       "      <td>32</td>\n",
       "      <td>2588</td>\n",
       "    </tr>\n",
       "    <tr>\n",
       "      <th>top</th>\n",
       "      <td>California</td>\n",
       "      <td>2002-06-10 00:00:00</td>\n",
       "    </tr>\n",
       "    <tr>\n",
       "      <th>freq</th>\n",
       "      <td>63368</td>\n",
       "      <td>160</td>\n",
       "    </tr>\n",
       "    <tr>\n",
       "      <th>first</th>\n",
       "      <td>NaN</td>\n",
       "      <td>2000-01-01 00:00:00</td>\n",
       "    </tr>\n",
       "    <tr>\n",
       "      <th>last</th>\n",
       "      <td>NaN</td>\n",
       "      <td>2007-01-31 00:00:00</td>\n",
       "    </tr>\n",
       "  </tbody>\n",
       "</table>\n",
       "</div>"
      ],
      "text/plain": [
       "             State           Date Local\n",
       "count       159278               159278\n",
       "unique          32                 2588\n",
       "top     California  2002-06-10 00:00:00\n",
       "freq         63368                  160\n",
       "first          NaN  2000-01-01 00:00:00\n",
       "last           NaN  2007-01-31 00:00:00"
      ]
     },
     "execution_count": 29,
     "metadata": {},
     "output_type": "execute_result"
    }
   ],
   "source": [
    "equal_df[['State', 'Date Local']].describe()"
   ]
  },
  {
   "cell_type": "code",
   "execution_count": 31,
   "id": "530066f3-9ebd-4d19-9d7d-0f153e2d7340",
   "metadata": {
    "pycharm": {
     "name": "#%%\n"
    }
   },
   "outputs": [
    {
     "data": {
      "text/html": [
       "<div>\n",
       "<style scoped>\n",
       "    .dataframe tbody tr th:only-of-type {\n",
       "        vertical-align: middle;\n",
       "    }\n",
       "\n",
       "    .dataframe tbody tr th {\n",
       "        vertical-align: top;\n",
       "    }\n",
       "\n",
       "    .dataframe thead th {\n",
       "        text-align: right;\n",
       "    }\n",
       "</style>\n",
       "<table border=\"1\" class=\"dataframe\">\n",
       "  <thead>\n",
       "    <tr style=\"text-align: right;\">\n",
       "      <th></th>\n",
       "      <th>Date Local</th>\n",
       "    </tr>\n",
       "    <tr>\n",
       "      <th>State</th>\n",
       "      <th></th>\n",
       "    </tr>\n",
       "  </thead>\n",
       "  <tbody>\n",
       "    <tr>\n",
       "      <th>Arizona</th>\n",
       "      <td>7456</td>\n",
       "    </tr>\n",
       "    <tr>\n",
       "      <th>Arkansas</th>\n",
       "      <td>31</td>\n",
       "    </tr>\n",
       "    <tr>\n",
       "      <th>California</th>\n",
       "      <td>63368</td>\n",
       "    </tr>\n",
       "    <tr>\n",
       "      <th>Colorado</th>\n",
       "      <td>2816</td>\n",
       "    </tr>\n",
       "    <tr>\n",
       "      <th>Connecticut</th>\n",
       "      <td>172</td>\n",
       "    </tr>\n",
       "    <tr>\n",
       "      <th>Country Of Mexico</th>\n",
       "      <td>1029</td>\n",
       "    </tr>\n",
       "    <tr>\n",
       "      <th>District Of Columbia</th>\n",
       "      <td>2553</td>\n",
       "    </tr>\n",
       "    <tr>\n",
       "      <th>Florida</th>\n",
       "      <td>2577</td>\n",
       "    </tr>\n",
       "    <tr>\n",
       "      <th>Illinois</th>\n",
       "      <td>4563</td>\n",
       "    </tr>\n",
       "    <tr>\n",
       "      <th>Indiana</th>\n",
       "      <td>1152</td>\n",
       "    </tr>\n",
       "    <tr>\n",
       "      <th>Iowa</th>\n",
       "      <td>31</td>\n",
       "    </tr>\n",
       "    <tr>\n",
       "      <th>Kansas</th>\n",
       "      <td>4733</td>\n",
       "    </tr>\n",
       "    <tr>\n",
       "      <th>Kentucky</th>\n",
       "      <td>3238</td>\n",
       "    </tr>\n",
       "    <tr>\n",
       "      <th>Louisiana</th>\n",
       "      <td>2688</td>\n",
       "    </tr>\n",
       "    <tr>\n",
       "      <th>Maine</th>\n",
       "      <td>321</td>\n",
       "    </tr>\n",
       "    <tr>\n",
       "      <th>Maryland</th>\n",
       "      <td>194</td>\n",
       "    </tr>\n",
       "    <tr>\n",
       "      <th>Massachusetts</th>\n",
       "      <td>2162</td>\n",
       "    </tr>\n",
       "    <tr>\n",
       "      <th>Michigan</th>\n",
       "      <td>2046</td>\n",
       "    </tr>\n",
       "    <tr>\n",
       "      <th>Missouri</th>\n",
       "      <td>3663</td>\n",
       "    </tr>\n",
       "    <tr>\n",
       "      <th>Nevada</th>\n",
       "      <td>606</td>\n",
       "    </tr>\n",
       "    <tr>\n",
       "      <th>New Hampshire</th>\n",
       "      <td>918</td>\n",
       "    </tr>\n",
       "    <tr>\n",
       "      <th>New Jersey</th>\n",
       "      <td>2963</td>\n",
       "    </tr>\n",
       "    <tr>\n",
       "      <th>New York</th>\n",
       "      <td>7485</td>\n",
       "    </tr>\n",
       "    <tr>\n",
       "      <th>North Carolina</th>\n",
       "      <td>2703</td>\n",
       "    </tr>\n",
       "    <tr>\n",
       "      <th>Oklahoma</th>\n",
       "      <td>3118</td>\n",
       "    </tr>\n",
       "    <tr>\n",
       "      <th>Pennsylvania</th>\n",
       "      <td>23530</td>\n",
       "    </tr>\n",
       "    <tr>\n",
       "      <th>South Carolina</th>\n",
       "      <td>489</td>\n",
       "    </tr>\n",
       "    <tr>\n",
       "      <th>Tennessee</th>\n",
       "      <td>467</td>\n",
       "    </tr>\n",
       "    <tr>\n",
       "      <th>Texas</th>\n",
       "      <td>9211</td>\n",
       "    </tr>\n",
       "    <tr>\n",
       "      <th>Virginia</th>\n",
       "      <td>2585</td>\n",
       "    </tr>\n",
       "    <tr>\n",
       "      <th>Wisconsin</th>\n",
       "      <td>379</td>\n",
       "    </tr>\n",
       "    <tr>\n",
       "      <th>Wyoming</th>\n",
       "      <td>31</td>\n",
       "    </tr>\n",
       "  </tbody>\n",
       "</table>\n",
       "</div>"
      ],
      "text/plain": [
       "                      Date Local\n",
       "State                           \n",
       "Arizona                     7456\n",
       "Arkansas                      31\n",
       "California                 63368\n",
       "Colorado                    2816\n",
       "Connecticut                  172\n",
       "Country Of Mexico           1029\n",
       "District Of Columbia        2553\n",
       "Florida                     2577\n",
       "Illinois                    4563\n",
       "Indiana                     1152\n",
       "Iowa                          31\n",
       "Kansas                      4733\n",
       "Kentucky                    3238\n",
       "Louisiana                   2688\n",
       "Maine                        321\n",
       "Maryland                     194\n",
       "Massachusetts               2162\n",
       "Michigan                    2046\n",
       "Missouri                    3663\n",
       "Nevada                       606\n",
       "New Hampshire                918\n",
       "New Jersey                  2963\n",
       "New York                    7485\n",
       "North Carolina              2703\n",
       "Oklahoma                    3118\n",
       "Pennsylvania               23530\n",
       "South Carolina               489\n",
       "Tennessee                    467\n",
       "Texas                       9211\n",
       "Virginia                    2585\n",
       "Wisconsin                    379\n",
       "Wyoming                       31"
      ]
     },
     "execution_count": 31,
     "metadata": {},
     "output_type": "execute_result"
    }
   ],
   "source": [
    "equal_df[['State', 'Date Local']].groupby('State').agg('count')"
   ]
  },
  {
   "cell_type": "code",
   "execution_count": 25,
   "id": "48910ae0-fd46-4cff-89f3-ba2769a3e010",
   "metadata": {
    "pycharm": {
     "name": "#%%\n"
    }
   },
   "outputs": [],
   "source": [
    "daterg = pd.date_range(start=equal_df['Date Local'].min(),\n",
    "                       end=equal_df['Date Local'].max(),\n",
    "                       freq='D')"
   ]
  },
  {
   "cell_type": "code",
   "execution_count": 26,
   "id": "f9487908-05e2-4ea8-bf34-6403d1c0673e",
   "metadata": {
    "pycharm": {
     "name": "#%%\n"
    }
   },
   "outputs": [
    {
     "data": {
      "text/plain": [
       "(2588,)"
      ]
     },
     "execution_count": 26,
     "metadata": {},
     "output_type": "execute_result"
    }
   ],
   "source": [
    "daterg.shape"
   ]
  },
  {
   "cell_type": "code",
   "execution_count": null,
   "id": "d00cd5a6-5c01-4127-b50b-216e9f83bfdc",
   "metadata": {
    "pycharm": {
     "name": "#%%\n"
    }
   },
   "outputs": [],
   "source": []
  }
 ],
 "metadata": {
  "kernelspec": {
   "display_name": "Python 3 (ipykernel)",
   "language": "python",
   "name": "python3"
  },
  "language_info": {
   "codemirror_mode": {
    "name": "ipython",
    "version": 3
   },
   "file_extension": ".py",
   "mimetype": "text/x-python",
   "name": "python",
   "nbconvert_exporter": "python",
   "pygments_lexer": "ipython3",
   "version": "3.8.10"
  }
 },
 "nbformat": 4,
 "nbformat_minor": 5
}